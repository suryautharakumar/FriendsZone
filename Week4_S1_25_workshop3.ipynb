{
  "nbformat": 4,
  "nbformat_minor": 0,
  "metadata": {
    "colab": {
      "provenance": [],
      "include_colab_link": true
    },
    "kernelspec": {
      "name": "python3",
      "display_name": "Python 3"
    },
    "language_info": {
      "name": "python"
    }
  },
  "cells": [
    {
      "cell_type": "markdown",
      "metadata": {
        "id": "view-in-github",
        "colab_type": "text"
      },
      "source": [
        "<a href=\"https://colab.research.google.com/github/suryautharakumar/FriendsZone/blob/main/Week4_S1_25_workshop3.ipynb\" target=\"_parent\"><img src=\"https://colab.research.google.com/assets/colab-badge.svg\" alt=\"Open In Colab\"/></a>"
      ]
    },
    {
      "cell_type": "markdown",
      "source": [
        "# 📝 Hands-On Exercises: Functions in Python"
      ],
      "metadata": {
        "id": "rBBBtEZIpSt3"
      }
    },
    {
      "cell_type": "markdown",
      "source": [
        "**Task: Write a function greet() that prints the following message**\n",
        "\n",
        "         \"Hello, welcome to Python programming!\"."
      ],
      "metadata": {
        "id": "XGntH738p20h"
      }
    },
    {
      "cell_type": "code",
      "execution_count": null,
      "metadata": {
        "id": "8gNnv88WpSGE",
        "colab": {
          "base_uri": "https://localhost:8080/"
        },
        "outputId": "804e08e5-7f82-4b43-8579-e581d872cebd"
      },
      "outputs": [
        {
          "output_type": "stream",
          "name": "stdout",
          "text": [
            "Hello, welcome to Python programming!\n"
          ]
        }
      ],
      "source": [
        "def greet():\n",
        "    print(\"Hello, welcome to Python programming!\")\n",
        "\n",
        "greet()\n"
      ]
    },
    {
      "cell_type": "markdown",
      "source": [
        "**Function with Parameters**\n",
        "\n",
        "**Task: Create a function personal_greet(name) that prints a personalized greeting: Call it with at least two different names.**\n",
        "\n",
        "    Hello <name>, glad to see you learning Python!\n",
        "\n",
        "\n"
      ],
      "metadata": {
        "id": "Q_lKdsmmrPIk"
      }
    },
    {
      "cell_type": "code",
      "source": [
        "def personal_greet(name):\n",
        "    print(f\"Hello {name}, glad to see you learning Python!\")\n",
        "\n",
        "personal_greet(\"Surya\")\n",
        "personal_greet(\"Sebastine\")\n"
      ],
      "metadata": {
        "id": "10rOvla2sF0V",
        "colab": {
          "base_uri": "https://localhost:8080/"
        },
        "outputId": "0f81f38d-fee7-4905-aa24-23b575269392"
      },
      "execution_count": null,
      "outputs": [
        {
          "output_type": "stream",
          "name": "stdout",
          "text": [
            "Hello Surya, glad to see you learning Python!\n",
            "Hello Sebastine, glad to see you learning Python!\n"
          ]
        }
      ]
    },
    {
      "cell_type": "markdown",
      "source": [
        "**Function with Return Value**\n",
        "\n",
        "**Task: Write a function add_numbers(a, b) that returns the sum of two numbers.\n",
        "Call the function by inputting with different numbers and print the results.**"
      ],
      "metadata": {
        "id": "LX-xEfJUl_4v"
      }
    },
    {
      "cell_type": "code",
      "source": [
        "def add_number(a,b):\n",
        "    return a + b\n",
        "\n",
        "add_number(2,3)\n",
        "add_number(5,9)"
      ],
      "metadata": {
        "id": "mPrryM53l_fO",
        "colab": {
          "base_uri": "https://localhost:8080/"
        },
        "outputId": "87bd24fb-a54f-4d56-a6db-fd26a95f8467"
      },
      "execution_count": null,
      "outputs": [
        {
          "output_type": "execute_result",
          "data": {
            "text/plain": [
              "14"
            ]
          },
          "metadata": {},
          "execution_count": 4
        }
      ]
    },
    {
      "cell_type": "markdown",
      "source": [
        "**Using Default Parameters**\n",
        "\n",
        "**Task: Write a function power(base, exponent=2) that returns base raised to the power of exponent. Test it by calling power(5) and power(2, 3).**"
      ],
      "metadata": {
        "id": "y1hhufM6oTQT"
      }
    },
    {
      "cell_type": "code",
      "source": [
        "def power(base, exponent=2):\n",
        "    return base ** exponent\n",
        "\n",
        "fun01 = power(5)\n",
        "print(\"Power of 5 is\",fun01)\n",
        "\n",
        "fun02 = power(2,3)\n",
        "print(\"\\nPower of 2,3 is\",fun02)"
      ],
      "metadata": {
        "id": "tQkyrTVPor0p",
        "colab": {
          "base_uri": "https://localhost:8080/"
        },
        "outputId": "b8440334-a18b-4e23-c371-483e4b0515aa"
      },
      "execution_count": null,
      "outputs": [
        {
          "output_type": "stream",
          "name": "stdout",
          "text": [
            "Power of 5 is 25\n",
            "\n",
            "Power of 2,3 is 8\n"
          ]
        }
      ]
    },
    {
      "cell_type": "markdown",
      "source": [
        "**Palindrome Checker**\n",
        "\n",
        "**Task: Write a function is_palindrome(text) that returns True if the string is the same when reversed, otherwise False.**"
      ],
      "metadata": {
        "id": "neevjXSZwOD1"
      }
    },
    {
      "cell_type": "code",
      "source": [
        "def palindrome(test):\n",
        "  if test == test[::-1]:\n",
        "    return test+\" is a Palindrome\"\n",
        "  else:\n",
        "    return test+\" is not a Palindrome\"\n",
        "\n",
        "test01 = palindrome(\"madam\")\n",
        "print(test01)\n",
        "\n",
        "test02 = palindrome(\"surya\")\n",
        "print(test02)\n",
        "\n"
      ],
      "metadata": {
        "id": "zANzzeIcwdDF",
        "colab": {
          "base_uri": "https://localhost:8080/"
        },
        "outputId": "f37b4d18-bc62-444a-d2c6-37d4c40d733f"
      },
      "execution_count": null,
      "outputs": [
        {
          "output_type": "stream",
          "name": "stdout",
          "text": [
            "madam is a Palindrome\n",
            "surya is not a Palindrome\n"
          ]
        }
      ]
    },
    {
      "cell_type": "markdown",
      "source": [
        "**Function with Dictionary Lookup**\n",
        "\n",
        "**Task: Write a function day_of_week(num) that returns the day name for numbers 1–7 (1 = Monday, 7 = Sunday). Use a dictionary instead of if.**"
      ],
      "metadata": {
        "id": "6Xu2El4cwvtE"
      }
    },
    {
      "cell_type": "code",
      "source": [
        "def day_of_week(num):\n",
        "    days = {1: 'Monday',\n",
        "            2: 'Tuesday',\n",
        "            3: 'Wednesday',\n",
        "            4: 'Thursday',\n",
        "            5: 'Friday',\n",
        "            6: 'Saturday',\n",
        "            7: 'Sunday'}\n",
        "\n",
        "    return days.get(num, 'Invalid input. Number must be 1 to 7 only')\n",
        "\n",
        "print(day_of_week(1),\"\\n\")\n",
        "print(day_of_week(5),\"\\n\")\n",
        "print(day_of_week(9))"
      ],
      "metadata": {
        "id": "fDL8AE3Fw_JE",
        "colab": {
          "base_uri": "https://localhost:8080/"
        },
        "outputId": "7f6744ad-3731-4cc6-ddd2-27a614533198"
      },
      "execution_count": null,
      "outputs": [
        {
          "output_type": "stream",
          "name": "stdout",
          "text": [
            "Monday \n",
            "\n",
            "Friday \n",
            "\n",
            "Invalid input. Number must be 1 to 7 only\n"
          ]
        }
      ]
    },
    {
      "cell_type": "markdown",
      "source": [
        "**Multiple Return Values**\n",
        "\n",
        "**Task: Create a function circle_measurements(radius) that returns both area and circumference of a circle.**\n",
        "\n",
        "**Use formulas:**\n",
        "\n",
        "**Area = π × r²**\n",
        "\n",
        "**Circumference = 2 × π × r**"
      ],
      "metadata": {
        "id": "QBcosa16pi5e"
      }
    },
    {
      "cell_type": "code",
      "source": [
        "import math\n",
        "\n",
        "def circle_measurements(radius):\n",
        "    area = math.pi * radius ** 2\n",
        "    circumference = 2 * math.pi * radius\n",
        "    return area, circumference\n",
        "\n",
        "area, circumference = circle_measurements(4)\n",
        "print(\"Area:\", area)\n",
        "print(\"Circumference:\", circumference)"
      ],
      "metadata": {
        "id": "6NylP6IIqX3i",
        "colab": {
          "base_uri": "https://localhost:8080/"
        },
        "outputId": "feb1c0ca-49de-4bf6-a7c3-d1e0f044b890"
      },
      "execution_count": null,
      "outputs": [
        {
          "output_type": "stream",
          "name": "stdout",
          "text": [
            "Area: 50.26548245743669\n",
            "Circumference: 25.132741228718345\n"
          ]
        }
      ]
    },
    {
      "cell_type": "markdown",
      "source": [
        "**Function Composition**\n",
        "\n",
        "**Tasks: Write two functions:**\n",
        "\n",
        "* fahrenheit_to_celsius(f) → converts Fahrenheit to Celsius\n",
        "\n",
        "* celsius_to_kelvin(c) → converts Celsius to Kelvin\n",
        "\n",
        "**Then create a third function fahrenheit_to_kelvin(f) that uses the first two functions to convert Fahrenheit to Kelvin.**"
      ],
      "metadata": {
        "id": "dpt3NWdOqgca"
      }
    },
    {
      "cell_type": "code",
      "source": [
        "def fahrenheit_to_celsius(f):\n",
        "    return (f - 32)*3/4\n",
        "\n",
        "def celsius_to_kelvin(c):\n",
        "    return c + 273.15\n",
        "\n",
        "def fahrenheit_to_kelvin(f):\n",
        "    c = fahrenheit_to_celsius(f)\n",
        "    k = celsius_to_kelvin(c)\n",
        "    return k\n",
        "\n",
        "print(\"The Fahrenheit to celsius\",fahrenheit_to_celsius(20),\"\\n\")\n",
        "print(\"The Celsius to kelvin\",celsius_to_kelvin(15),\"\\n\")\n",
        "print(\"The Fahrenheit to kelvin\",fahrenheit_to_kelvin(35))"
      ],
      "metadata": {
        "id": "uFauTqPRq14y",
        "colab": {
          "base_uri": "https://localhost:8080/"
        },
        "outputId": "4d335aa1-6ba1-45f9-a194-53f28783116d"
      },
      "execution_count": null,
      "outputs": [
        {
          "output_type": "stream",
          "name": "stdout",
          "text": [
            "The Fahrenheit to celsius -9.0 \n",
            "\n",
            "The Celsius to kelvin 288.15 \n",
            "\n",
            "The Fahrenheit to kelvin 275.4\n"
          ]
        }
      ]
    },
    {
      "cell_type": "markdown",
      "source": [
        "**Function with Keyword Arguments :**\n",
        "\n",
        "**Task: Create a function book_info(title, author, year=2025) that prints the book details. Call it using positional and keyword arguments.**"
      ],
      "metadata": {
        "id": "xVuINNoDsdHt"
      }
    },
    {
      "cell_type": "code",
      "source": [
        "def book_info(title, author, year=2025):\n",
        "    print(f\"Title: {title}\")\n",
        "    print(f\"Author: {author}\")\n",
        "    print(f\"Year: {year}\")\n",
        "\n",
        "book_info(\"Mersal\",\"Atlee\",2017)"
      ],
      "metadata": {
        "id": "OrdKJEx7sXOY",
        "colab": {
          "base_uri": "https://localhost:8080/"
        },
        "outputId": "4f8bf443-1387-445a-a1d7-bcbe4b3d35e4"
      },
      "execution_count": null,
      "outputs": [
        {
          "output_type": "stream",
          "name": "stdout",
          "text": [
            "Title: Mersal\n",
            "Author: Atlee\n",
            "Year: 2017\n"
          ]
        }
      ]
    },
    {
      "cell_type": "markdown",
      "source": [
        "**Function with Mathematical Computation**\n",
        "\n",
        "**Task: Write a function quadratic_roots(a, b, c) that returns the two roots of a quadratic equation ax² + bx + c = 0. Use the quadratic formula.**"
      ],
      "metadata": {
        "id": "lesIhkd6s0eM"
      }
    },
    {
      "cell_type": "code",
      "source": [
        "def quadratic_roots(a, b, c):\n",
        "    d = b**2 - 4*a*c\n",
        "    r1 = (-b + d**0.5) / (2*a)\n",
        "    r2 = (-b - d**0.5) / (2*a)\n",
        "    return r1, r2\n",
        "\n",
        "\n"
      ],
      "metadata": {
        "id": "L5m_6fXTs825"
      },
      "execution_count": null,
      "outputs": []
    },
    {
      "cell_type": "markdown",
      "source": [
        "**Challenge: Calculator Function**\n",
        "\n",
        "**Task: Create a function calculator(a, b, operation) where operation can be \"add\", \"subtract\", \"multiply\", or \"divide\". The function should return the correct result.**"
      ],
      "metadata": {
        "id": "jgY_AO76tCuV"
      }
    },
    {
      "cell_type": "code",
      "source": [
        "def calculator(a,b,operator):\n",
        "  operation = {\n",
        "      \"+\" : lambda a,b:a+b,\n",
        "      \"-\" : lambda a,b:a-b,\n",
        "      \"/\" : lambda a,b:a/b,\n",
        "      \"*\" : lambda a,b:a*b\n",
        "  }\n",
        "  return operation.get(operator, lambda a,b:\"Invalid Operator Input\")(a,b)\n",
        "\n",
        "print(calculator(2,3,\"+\")) #Add\n",
        "print(calculator(32,24,\"-\")) #Subtration\n",
        "print(calculator(8,73,\"*\")) #Multiply\n",
        "print(calculator(12,2,\"/\")) #Divide\n",
        "print(calculator(82,9,\"surya\")) #Invalid Operator Input\n",
        "\n"
      ],
      "metadata": {
        "id": "0WJH97hEtmSq",
        "colab": {
          "base_uri": "https://localhost:8080/"
        },
        "outputId": "43f26ee2-613b-4dba-bc31-04ba20a652c2"
      },
      "execution_count": null,
      "outputs": [
        {
          "output_type": "stream",
          "name": "stdout",
          "text": [
            "5\n",
            "8\n",
            "584\n",
            "6.0\n",
            "Invalid Operator Input\n"
          ]
        }
      ]
    }
  ]
}